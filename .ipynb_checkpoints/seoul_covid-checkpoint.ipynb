{
 "cells": [
  {
   "cell_type": "code",
   "execution_count": 74,
   "metadata": {},
   "outputs": [],
   "source": [
    "import pandas as pd"
   ]
  },
  {
   "cell_type": "code",
   "execution_count": 75,
   "metadata": {},
   "outputs": [],
   "source": [
    "url = \"http://www.seoul.go.kr/coronaV/coronaStatus.do\"\n",
    "url\n",
    "\n",
    "df = table[1];\n",
    "df.isnull().sum()\n",
    "\n",
    "df = df.dropna()\n",
    "df.duplicated().sum()\n",
    "\n",
    "df = df.drop([1])\n",
    "df = df.drop([4])\n",
    "df = df.drop([7])\n",
    "df = df.drop([10])"
   ]
  },
  {
   "cell_type": "code",
   "execution_count": 77,
   "metadata": {},
   "outputs": [],
   "source": [
    "df = df.T.reset_index().rename(columns={\"index\":\"구\"})"
   ]
  },
  {
   "cell_type": "code",
   "execution_count": 78,
   "metadata": {},
   "outputs": [
    {
     "data": {
      "text/html": [
       "<div>\n",
       "<style scoped>\n",
       "    .dataframe tbody tr th:only-of-type {\n",
       "        vertical-align: middle;\n",
       "    }\n",
       "\n",
       "    .dataframe tbody tr th {\n",
       "        vertical-align: top;\n",
       "    }\n",
       "\n",
       "    .dataframe thead th {\n",
       "        text-align: right;\n",
       "    }\n",
       "</style>\n",
       "<table border=\"1\" class=\"dataframe\">\n",
       "  <thead>\n",
       "    <tr style=\"text-align: right;\">\n",
       "      <th></th>\n",
       "      <th>0</th>\n",
       "      <th>1</th>\n",
       "      <th>2</th>\n",
       "      <th>3</th>\n",
       "      <th>4</th>\n",
       "      <th>5</th>\n",
       "    </tr>\n",
       "  </thead>\n",
       "  <tbody>\n",
       "    <tr>\n",
       "      <th>구</th>\n",
       "      <td>종로구</td>\n",
       "      <td>중구</td>\n",
       "      <td>용산구</td>\n",
       "      <td>성동구</td>\n",
       "      <td>광진구</td>\n",
       "      <td>동대문구</td>\n",
       "    </tr>\n",
       "    <tr>\n",
       "      <th>0</th>\n",
       "      <td>164</td>\n",
       "      <td>168</td>\n",
       "      <td>299</td>\n",
       "      <td>288</td>\n",
       "      <td>266</td>\n",
       "      <td>400</td>\n",
       "    </tr>\n",
       "    <tr>\n",
       "      <th>2</th>\n",
       "      <td>중랑구</td>\n",
       "      <td>성북구</td>\n",
       "      <td>강북구</td>\n",
       "      <td>도봉구</td>\n",
       "      <td>노원구</td>\n",
       "      <td>은평구</td>\n",
       "    </tr>\n",
       "    <tr>\n",
       "      <th>3</th>\n",
       "      <td>455</td>\n",
       "      <td>550</td>\n",
       "      <td>256</td>\n",
       "      <td>393</td>\n",
       "      <td>566</td>\n",
       "      <td>494</td>\n",
       "    </tr>\n",
       "    <tr>\n",
       "      <th>5</th>\n",
       "      <td>서대문구</td>\n",
       "      <td>마포구</td>\n",
       "      <td>양천구</td>\n",
       "      <td>강서구</td>\n",
       "      <td>구로구</td>\n",
       "      <td>금천구</td>\n",
       "    </tr>\n",
       "    <tr>\n",
       "      <th>6</th>\n",
       "      <td>341</td>\n",
       "      <td>405</td>\n",
       "      <td>428</td>\n",
       "      <td>874</td>\n",
       "      <td>355</td>\n",
       "      <td>163</td>\n",
       "    </tr>\n",
       "    <tr>\n",
       "      <th>8</th>\n",
       "      <td>영등포구</td>\n",
       "      <td>동작구</td>\n",
       "      <td>관악구</td>\n",
       "      <td>서초구</td>\n",
       "      <td>강남구</td>\n",
       "      <td>송파구</td>\n",
       "    </tr>\n",
       "    <tr>\n",
       "      <th>9</th>\n",
       "      <td>416</td>\n",
       "      <td>551</td>\n",
       "      <td>692</td>\n",
       "      <td>617</td>\n",
       "      <td>675</td>\n",
       "      <td>758</td>\n",
       "    </tr>\n",
       "  </tbody>\n",
       "</table>\n",
       "</div>"
      ],
      "text/plain": [
       "      0    1    2    3    4     5\n",
       "구   종로구   중구  용산구  성동구  광진구  동대문구\n",
       "0   164  168  299  288  266   400\n",
       "2   중랑구  성북구  강북구  도봉구  노원구   은평구\n",
       "3   455  550  256  393  566   494\n",
       "5  서대문구  마포구  양천구  강서구  구로구   금천구\n",
       "6   341  405  428  874  355   163\n",
       "8  영등포구  동작구  관악구  서초구  강남구   송파구\n",
       "9   416  551  692  617  675   758"
      ]
     },
     "execution_count": 78,
     "metadata": {},
     "output_type": "execute_result"
    }
   ],
   "source": [
    "df.T"
   ]
  },
  {
   "cell_type": "code",
   "execution_count": 89,
   "metadata": {},
   "outputs": [
    {
     "data": {
      "text/html": [
       "<div>\n",
       "<style scoped>\n",
       "    .dataframe tbody tr th:only-of-type {\n",
       "        vertical-align: middle;\n",
       "    }\n",
       "\n",
       "    .dataframe tbody tr th {\n",
       "        vertical-align: top;\n",
       "    }\n",
       "\n",
       "    .dataframe thead th {\n",
       "        text-align: right;\n",
       "    }\n",
       "</style>\n",
       "<table border=\"1\" class=\"dataframe\">\n",
       "  <thead>\n",
       "    <tr style=\"text-align: right;\">\n",
       "      <th></th>\n",
       "      <th>0</th>\n",
       "      <th>1</th>\n",
       "      <th>2</th>\n",
       "      <th>3</th>\n",
       "      <th>4</th>\n",
       "      <th>5</th>\n",
       "    </tr>\n",
       "  </thead>\n",
       "  <tbody>\n",
       "    <tr>\n",
       "      <th>8</th>\n",
       "      <td>영등포구</td>\n",
       "      <td>동작구</td>\n",
       "      <td>관악구</td>\n",
       "      <td>서초구</td>\n",
       "      <td>강남구</td>\n",
       "      <td>송파구</td>\n",
       "    </tr>\n",
       "    <tr>\n",
       "      <th>9</th>\n",
       "      <td>416</td>\n",
       "      <td>551</td>\n",
       "      <td>692</td>\n",
       "      <td>617</td>\n",
       "      <td>675</td>\n",
       "      <td>758</td>\n",
       "    </tr>\n",
       "  </tbody>\n",
       "</table>\n",
       "</div>"
      ],
      "text/plain": [
       "      0    1    2    3    4    5\n",
       "8  영등포구  동작구  관악구  서초구  강남구  송파구\n",
       "9   416  551  692  617  675  758"
      ]
     },
     "execution_count": 89,
     "metadata": {},
     "output_type": "execute_result"
    }
   ],
   "source": [
    "df1 = df.loc[:, [\"구\",0]].T\n",
    "df2 = df.loc[:, [2,3]].T\n",
    "df3 = df.loc[:, [5,6]].T\n",
    "df4 = df.loc[:, [8,9]].T\n"
   ]
  },
  {
   "cell_type": "code",
   "execution_count": 96,
   "metadata": {},
   "outputs": [],
   "source": [
    "df1 = df1.rename(index={0: '확진자수'})\n",
    "df2 = df2.rename(index={2: '구', 3:'확진자수'})\n",
    "df3 = df3.rename(index={5: '구',6:'확진자수'})\n",
    "df4 = df4.rename(index={8: '구',9:'확진자수'})"
   ]
  },
  {
   "cell_type": "code",
   "execution_count": 107,
   "metadata": {},
   "outputs": [
    {
     "data": {
      "text/html": [
       "<div>\n",
       "<style scoped>\n",
       "    .dataframe tbody tr th:only-of-type {\n",
       "        vertical-align: middle;\n",
       "    }\n",
       "\n",
       "    .dataframe tbody tr th {\n",
       "        vertical-align: top;\n",
       "    }\n",
       "\n",
       "    .dataframe thead th {\n",
       "        text-align: right;\n",
       "    }\n",
       "</style>\n",
       "<table border=\"1\" class=\"dataframe\">\n",
       "  <thead>\n",
       "    <tr style=\"text-align: right;\">\n",
       "      <th></th>\n",
       "      <th>0</th>\n",
       "      <th>1</th>\n",
       "      <th>2</th>\n",
       "      <th>3</th>\n",
       "      <th>4</th>\n",
       "      <th>5</th>\n",
       "      <th>0</th>\n",
       "      <th>1</th>\n",
       "      <th>2</th>\n",
       "      <th>3</th>\n",
       "      <th>...</th>\n",
       "      <th>2</th>\n",
       "      <th>3</th>\n",
       "      <th>4</th>\n",
       "      <th>5</th>\n",
       "      <th>0</th>\n",
       "      <th>1</th>\n",
       "      <th>2</th>\n",
       "      <th>3</th>\n",
       "      <th>4</th>\n",
       "      <th>5</th>\n",
       "    </tr>\n",
       "  </thead>\n",
       "  <tbody>\n",
       "    <tr>\n",
       "      <th>구</th>\n",
       "      <td>종로구</td>\n",
       "      <td>중구</td>\n",
       "      <td>용산구</td>\n",
       "      <td>성동구</td>\n",
       "      <td>광진구</td>\n",
       "      <td>동대문구</td>\n",
       "      <td>중랑구</td>\n",
       "      <td>성북구</td>\n",
       "      <td>강북구</td>\n",
       "      <td>도봉구</td>\n",
       "      <td>...</td>\n",
       "      <td>양천구</td>\n",
       "      <td>강서구</td>\n",
       "      <td>구로구</td>\n",
       "      <td>금천구</td>\n",
       "      <td>영등포구</td>\n",
       "      <td>동작구</td>\n",
       "      <td>관악구</td>\n",
       "      <td>서초구</td>\n",
       "      <td>강남구</td>\n",
       "      <td>송파구</td>\n",
       "    </tr>\n",
       "    <tr>\n",
       "      <th>확진자수</th>\n",
       "      <td>164</td>\n",
       "      <td>168</td>\n",
       "      <td>299</td>\n",
       "      <td>288</td>\n",
       "      <td>266</td>\n",
       "      <td>400</td>\n",
       "      <td>455</td>\n",
       "      <td>550</td>\n",
       "      <td>256</td>\n",
       "      <td>393</td>\n",
       "      <td>...</td>\n",
       "      <td>428</td>\n",
       "      <td>874</td>\n",
       "      <td>355</td>\n",
       "      <td>163</td>\n",
       "      <td>416</td>\n",
       "      <td>551</td>\n",
       "      <td>692</td>\n",
       "      <td>617</td>\n",
       "      <td>675</td>\n",
       "      <td>758</td>\n",
       "    </tr>\n",
       "  </tbody>\n",
       "</table>\n",
       "<p>2 rows × 24 columns</p>\n",
       "</div>"
      ],
      "text/plain": [
       "        0    1    2    3    4     5    0    1    2    3  ...    2    3    4  \\\n",
       "구     종로구   중구  용산구  성동구  광진구  동대문구  중랑구  성북구  강북구  도봉구  ...  양천구  강서구  구로구   \n",
       "확진자수  164  168  299  288  266   400  455  550  256  393  ...  428  874  355   \n",
       "\n",
       "        5     0    1    2    3    4    5  \n",
       "구     금천구  영등포구  동작구  관악구  서초구  강남구  송파구  \n",
       "확진자수  163   416  551  692  617  675  758  \n",
       "\n",
       "[2 rows x 24 columns]"
      ]
     },
     "execution_count": 107,
     "metadata": {},
     "output_type": "execute_result"
    }
   ],
   "source": [
    "frames = [df1, df2, df3, df4]\n",
    "result = pd.concat(frames, axis=1)\n",
    "result\n"
   ]
  },
  {
   "cell_type": "code",
   "execution_count": 147,
   "metadata": {},
   "outputs": [],
   "source": []
  },
  {
   "cell_type": "code",
   "execution_count": 117,
   "metadata": {},
   "outputs": [],
   "source": [
    "from datetime import datetime"
   ]
  },
  {
   "cell_type": "code",
   "execution_count": 119,
   "metadata": {},
   "outputs": [],
   "source": [
    "today = datetime.today().strftime(\"%Y-%m-%d\")"
   ]
  },
  {
   "cell_type": "code",
   "execution_count": 120,
   "metadata": {
    "scrolled": true
   },
   "outputs": [
    {
     "data": {
      "text/plain": [
       "'2020-12-12'"
      ]
     },
     "execution_count": 120,
     "metadata": {},
     "output_type": "execute_result"
    }
   ],
   "source": [
    "today"
   ]
  },
  {
   "cell_type": "code",
   "execution_count": 202,
   "metadata": {},
   "outputs": [],
   "source": [
    "result = result.T"
   ]
  },
  {
   "cell_type": "code",
   "execution_count": 205,
   "metadata": {},
   "outputs": [],
   "source": [
    "result = result.set_index('구')"
   ]
  },
  {
   "cell_type": "code",
   "execution_count": 206,
   "metadata": {},
   "outputs": [],
   "source": [
    "result.to_csv(f'{today}.csv')"
   ]
  },
  {
   "cell_type": "code",
   "execution_count": 225,
   "metadata": {},
   "outputs": [],
   "source": [
    "df = table[2]\n",
    "df= df.T\n",
    "df = df.drop(['소계'])\n",
    "\n",
    "df.to_csv('where.csv')"
   ]
  },
  {
   "cell_type": "code",
   "execution_count": 223,
   "metadata": {},
   "outputs": [
    {
     "data": {
      "text/html": [
       "<div>\n",
       "<style scoped>\n",
       "    .dataframe tbody tr th:only-of-type {\n",
       "        vertical-align: middle;\n",
       "    }\n",
       "\n",
       "    .dataframe tbody tr th {\n",
       "        vertical-align: top;\n",
       "    }\n",
       "\n",
       "    .dataframe thead th {\n",
       "        text-align: right;\n",
       "    }\n",
       "</style>\n",
       "<table border=\"1\" class=\"dataframe\">\n",
       "  <thead>\n",
       "    <tr style=\"text-align: right;\">\n",
       "      <th></th>\n",
       "      <th>0</th>\n",
       "    </tr>\n",
       "  </thead>\n",
       "  <tbody>\n",
       "    <tr>\n",
       "      <th>해외유입</th>\n",
       "      <td>577</td>\n",
       "    </tr>\n",
       "    <tr>\n",
       "      <th>강서구 소재 교회 관련</th>\n",
       "      <td>91</td>\n",
       "    </tr>\n",
       "    <tr>\n",
       "      <th>종로구 소재 파고다타운 관련</th>\n",
       "      <td>191</td>\n",
       "    </tr>\n",
       "    <tr>\n",
       "      <th>중구 소재 콜센터Ⅱ 관련</th>\n",
       "      <td>19</td>\n",
       "    </tr>\n",
       "    <tr>\n",
       "      <th>강서구 소재 댄스교습 관련 시설</th>\n",
       "      <td>215</td>\n",
       "    </tr>\n",
       "    <tr>\n",
       "      <th>강서구 소재 댄스교습 연관 병원 관련</th>\n",
       "      <td>52</td>\n",
       "    </tr>\n",
       "    <tr>\n",
       "      <th>은평구 소재 역사 관련</th>\n",
       "      <td>13</td>\n",
       "    </tr>\n",
       "    <tr>\n",
       "      <th>제주도 퇴직교사 모임</th>\n",
       "      <td>14</td>\n",
       "    </tr>\n",
       "    <tr>\n",
       "      <th>기타 집단 감염</th>\n",
       "      <td>5349</td>\n",
       "    </tr>\n",
       "    <tr>\n",
       "      <th>기타 확진자 접촉</th>\n",
       "      <td>2594</td>\n",
       "    </tr>\n",
       "    <tr>\n",
       "      <th>타시도 확진자 접촉</th>\n",
       "      <td>579</td>\n",
       "    </tr>\n",
       "    <tr>\n",
       "      <th>감영경로 조사중</th>\n",
       "      <td>2094</td>\n",
       "    </tr>\n",
       "  </tbody>\n",
       "</table>\n",
       "</div>"
      ],
      "text/plain": [
       "                         0\n",
       "해외유입                   577\n",
       "강서구 소재 교회 관련            91\n",
       "종로구 소재 파고다타운 관련        191\n",
       "중구 소재 콜센터Ⅱ 관련           19\n",
       "강서구 소재 댄스교습 관련 시설      215\n",
       "강서구 소재 댄스교습 연관 병원 관련    52\n",
       "은평구 소재 역사 관련            13\n",
       "제주도 퇴직교사 모임             14\n",
       "기타 집단 감염              5349\n",
       "기타 확진자 접촉             2594\n",
       "타시도 확진자 접촉             579\n",
       "감영경로 조사중              2094"
      ]
     },
     "execution_count": 223,
     "metadata": {},
     "output_type": "execute_result"
    }
   ],
   "source": []
  },
  {
   "cell_type": "code",
   "execution_count": null,
   "metadata": {},
   "outputs": [],
   "source": []
  }
 ],
 "metadata": {
  "kernelspec": {
   "display_name": "Python 3",
   "language": "python",
   "name": "python3"
  },
  "language_info": {
   "codemirror_mode": {
    "name": "ipython",
    "version": 3
   },
   "file_extension": ".py",
   "mimetype": "text/x-python",
   "name": "python",
   "nbconvert_exporter": "python",
   "pygments_lexer": "ipython3",
   "version": "3.8.3"
  }
 },
 "nbformat": 4,
 "nbformat_minor": 4
}
